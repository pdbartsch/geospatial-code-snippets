{
 "cells": [
  {
   "cell_type": "markdown",
   "metadata": {},
   "source": [
    "# We can use ArcPy in a Jupyter Notebook!?"
   ]
  },
  {
   "cell_type": "markdown",
   "metadata": {},
   "source": [
    "#### Imports\n",
    "If this fails make sure you launched jupyter notebooks from the conda environment setup for use with ArcGIS Pro."
   ]
  },
  {
   "cell_type": "code",
   "execution_count": 1,
   "metadata": {},
   "outputs": [],
   "source": [
    "import arcpy\n",
    "import os"
   ]
  },
  {
   "cell_type": "markdown",
   "metadata": {},
   "source": [
    "#### Setup varibles to make writing paths easier"
   ]
  },
  {
   "cell_type": "code",
   "execution_count": 2,
   "metadata": {},
   "outputs": [],
   "source": [
    "in_dir = r'data'\n",
    "ex_dir = r'data\\\\plots\\\\'\n",
    "project = 'BaseballStadiumLighting.aprx'"
   ]
  },
  {
   "cell_type": "markdown",
   "metadata": {},
   "source": [
    "#### Point to your ArcGIS Pro Project"
   ]
  },
  {
   "cell_type": "code",
   "execution_count": 3,
   "metadata": {},
   "outputs": [],
   "source": [
    "p = os.path.join(in_dir,project)\n",
    "aprx = arcpy.mp.ArcGISProject(p)"
   ]
  },
  {
   "cell_type": "markdown",
   "metadata": {},
   "source": [
    "#### List all layouts in your project"
   ]
  },
  {
   "cell_type": "code",
   "execution_count": 4,
   "metadata": {},
   "outputs": [
    {
     "name": "stdout",
     "output_type": "stream",
     "text": [
      "  Baseball Site Lighting ESHA Buffer (11.0 x 8.5 INCH)\n",
      "  FigF5_ESHA_Overlay_Buffers (11.0 x 17.0 INCH)\n",
      "  Rudy House (Bldg. 364) (11.0 x 8.5 INCH)\n",
      "  Baseball Site Lighting TREES (11.0 x 8.5 INCH)\n"
     ]
    }
   ],
   "source": [
    "for lyt in aprx.listLayouts():\n",
    "    print(\"  {0} ({1} x {2} {3})\".format(lyt.name, lyt.pageHeight, lyt.pageWidth, lyt.pageUnits))"
   ]
  },
  {
   "cell_type": "markdown",
   "metadata": {},
   "source": [
    "#### Export all layouts as PDF\n",
    "This will fail if the export directory (ex_dir) doesn't exist.\n",
    "Any files with the same name will be overwritten."
   ]
  },
  {
   "cell_type": "code",
   "execution_count": 5,
   "metadata": {},
   "outputs": [],
   "source": [
    "for lyt in aprx.listLayouts():\n",
    "    lyt.exportToPDF(ex_dir + lyt.name + \".pdf\", resolution = 300)"
   ]
  }
 ],
 "metadata": {
  "kernelspec": {
   "display_name": "Python 3",
   "language": "python",
   "name": "python3"
  },
  "language_info": {
   "codemirror_mode": {
    "name": "ipython",
    "version": 3
   },
   "file_extension": ".py",
   "mimetype": "text/x-python",
   "name": "python",
   "nbconvert_exporter": "python",
   "pygments_lexer": "ipython3",
   "version": "3.6.5"
  }
 },
 "nbformat": 4,
 "nbformat_minor": 2
}
