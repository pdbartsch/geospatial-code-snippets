{
 "cells": [
  {
   "cell_type": "markdown",
   "metadata": {},
   "source": [
    "# Setup Conda Environments\n",
    "-----"
   ]
  },
  {
   "cell_type": "markdown",
   "metadata": {},
   "source": [
    "## ArcGIS"
   ]
  },
  {
   "cell_type": "markdown",
   "metadata": {},
   "source": [
    "### Clone the ArcGIS Pro Conda environment into your normal envs location  \n",
    "This works with ArcGIS Pro 2.2.4 on Windows using Miniconda3.\n",
    "I'm also running ArcGIS Desktop 10.6 on the same machine. \n",
    "ArcGIS Desktop still uses Python 2 which I've set to be the main Python on this machine.\n",
    "I like to call this new environment `agp` but feel free to call it whatever you like."
   ]
  },
  {
   "cell_type": "markdown",
   "metadata": {},
   "source": [
    "- start ArcGIS Pro Python Command Prompt from Windows start menu\n",
    "- from within that command prompt create a clone of the default arcgispro-py3 environment and store it in the default miniconda envs folder like so:\n",
    " - `conda create --prefix C:\\<path to your envs folder>\\envs\\newEnvironmentName --clone arcgispro-py3`"
   ]
  },
  {
   "cell_type": "markdown",
   "metadata": {},
   "source": [
    "----\n",
    "## OSGeo"
   ]
  },
  {
   "cell_type": "markdown",
   "metadata": {},
   "source": [
    "### Setup a Conda env to use open source geospatial scientific Python\n",
    "These instructions are for Windows.  [All credit to this gist by Geoff Boeing.](https://gist.github.com/gboeing/a6fcb39a9010d142446f4a83e43d8d6c)"
   ]
  },
  {
   "cell_type": "markdown",
   "metadata": {},
   "source": [
    "List your current Conda environments:\n",
    "- `conda env list`\n",
    "\n",
    "Setup a new environment to keep your system clean:\n",
    "- `conda create --name geopy python=3.7.1`\n",
    "\n",
    "Use your newly setup environment:\n",
    "- `activate geopy`\n",
    "\n",
    "Download some packages not available with Conda. Be sure to grab the .whl files matching your version of Python and cpu architecture (32 or 64 bit):\n",
    "- [rtree](http://www.lfd.uci.edu/~gohlke/pythonlibs/#rtree)\n",
    "- [basemap](http://www.lfd.uci.edu/~gohlke/pythonlibs/#basemap)\n",
    "- [gdal](http://www.lfd.uci.edu/~gohlke/pythonlibs/#gdal)\n",
    "- [shapely](http://www.lfd.uci.edu/~gohlke/pythonlibs/#shapely)\n",
    "- [fiona](http://www.lfd.uci.edu/~gohlke/pythonlibs/#fiona)\n",
    "- [pyproj](http://www.lfd.uci.edu/~gohlke/pythonlibs/#pyproj)\n",
    "\n",
    "First install packages using Conda:\n",
    "- `conda install anaconda-client pywin32 psutil numexpr cython pytables sqlalchemy statsmodels bottleneck xlrd xlwt pillow matplotlib pandas scikit-learn jupyter requests networkx`\n",
    "\n",
    "Then install packages not available with Conda. Change to your download directory and use tab complete to get the full names of the .whl files you just downloaded.\n",
    "- `pip install Rtree-whatever.whl basemap-whatever.whl GDAL-whatever.whl Shapely-whatever.whl Fiona-whatever.whl pyproj-whatever.whl geopy descartes geopandas osmnx`\n",
    "\n",
    "Add the path to GDAL to the Windows PATH environment variable.  This path will vary, but should be something like: `<path to this Conda environment>\\Lib\\site-packages\\osgeo`\n"
   ]
  }
 ],
 "metadata": {
  "kernelspec": {
   "display_name": "Python 3",
   "language": "python",
   "name": "python3"
  },
  "language_info": {
   "codemirror_mode": {
    "name": "ipython",
    "version": 3
   },
   "file_extension": ".py",
   "mimetype": "text/x-python",
   "name": "python",
   "nbconvert_exporter": "python",
   "pygments_lexer": "ipython3",
   "version": "3.6.5"
  }
 },
 "nbformat": 4,
 "nbformat_minor": 2
}
