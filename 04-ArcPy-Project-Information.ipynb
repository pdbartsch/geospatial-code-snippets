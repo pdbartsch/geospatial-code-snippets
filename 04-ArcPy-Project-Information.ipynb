{
 "cells": [
  {
   "cell_type": "markdown",
   "metadata": {},
   "source": [
    "# Get some information about an ArcGIS Pro Project"
   ]
  },
  {
   "cell_type": "markdown",
   "metadata": {},
   "source": [
    "#### Imports"
   ]
  },
  {
   "cell_type": "code",
   "execution_count": 1,
   "metadata": {},
   "outputs": [],
   "source": [
    "import arcpy\n",
    "import os"
   ]
  },
  {
   "cell_type": "markdown",
   "metadata": {},
   "source": [
    "#### Setup varibles to make writing paths easier"
   ]
  },
  {
   "cell_type": "code",
   "execution_count": 2,
   "metadata": {},
   "outputs": [],
   "source": [
    "in_dir = r'data'\n",
    "project = 'temp_snippets\\\\temp_snippets.aprx'"
   ]
  },
  {
   "cell_type": "markdown",
   "metadata": {},
   "source": [
    "#### Point to your ArcGIS Pro Project"
   ]
  },
  {
   "cell_type": "code",
   "execution_count": 3,
   "metadata": {},
   "outputs": [],
   "source": [
    "p = os.path.join(in_dir,project)\n",
    "aprx = arcpy.mp.ArcGISProject(p)"
   ]
  },
  {
   "cell_type": "markdown",
   "metadata": {},
   "source": [
    "#### List all layouts in your project and their page dimension"
   ]
  },
  {
   "cell_type": "code",
   "execution_count": 4,
   "metadata": {},
   "outputs": [
    {
     "name": "stdout",
     "output_type": "stream",
     "text": [
      "  Layout One (11.0 x 8.5 INCH)\n",
      "  Layout Two (11.0 x 8.5 INCH)\n",
      "  Layout (24.0 x 36.0 INCH)\n"
     ]
    }
   ],
   "source": [
    "for lyt in aprx.listLayouts():\n",
    "    print(\"  {0} ({1} x {2} {3})\".format(lyt.name, lyt.pageHeight, lyt.pageWidth, lyt.pageUnits))"
   ]
  },
  {
   "cell_type": "markdown",
   "metadata": {},
   "source": [
    "#### Get projects's default toolbox location"
   ]
  },
  {
   "cell_type": "code",
   "execution_count": 5,
   "metadata": {
    "scrolled": true
   },
   "outputs": [
    {
     "name": "stdout",
     "output_type": "stream",
     "text": [
      "C:\\data\\geospatial-code-snippets\\data\\temp_snippets\\temp_snippets.tbx\n"
     ]
    }
   ],
   "source": [
    "print(aprx.defaultToolbox)"
   ]
  },
  {
   "cell_type": "markdown",
   "metadata": {},
   "source": [
    "#### List all maps and layers in a project"
   ]
  },
  {
   "cell_type": "code",
   "execution_count": 6,
   "metadata": {},
   "outputs": [
    {
     "name": "stdout",
     "output_type": "stream",
     "text": [
      "Map: Overview\n",
      "  Non_FireRX_Legacy13_1\n",
      "  Topographic\n",
      "Map: Main\n",
      "  who_moved_me\n",
      "  State Roads\n",
      "  tl_2015_06_prisecroads\n",
      "  fthrt05_1\n",
      "  Topographic\n"
     ]
    }
   ],
   "source": [
    "for m in aprx.listMaps():\n",
    "    print(\"Map: \" + m.name)\n",
    "    for lyr in m.listLayers():\n",
    "        print(\"  \" + lyr.name)"
   ]
  },
  {
   "cell_type": "markdown",
   "metadata": {},
   "source": [
    "#### Get projects's default database location"
   ]
  },
  {
   "cell_type": "code",
   "execution_count": 7,
   "metadata": {},
   "outputs": [
    {
     "name": "stdout",
     "output_type": "stream",
     "text": [
      "C:\\data\\geospatial-code-snippets\\data\\temp_snippets\\temp_snippets.gdb\n"
     ]
    }
   ],
   "source": [
    "print(aprx.defaultGeodatabase)"
   ]
  },
  {
   "cell_type": "markdown",
   "metadata": {},
   "source": [
    "#### List any broken data sources in project"
   ]
  },
  {
   "cell_type": "code",
   "execution_count": 8,
   "metadata": {},
   "outputs": [
    {
     "name": "stdout",
     "output_type": "stream",
     "text": [
      "\twho_moved_me\n"
     ]
    }
   ],
   "source": [
    "brknList = aprx.listBrokenDataSources()\n",
    "for brknItem in brknList:\n",
    "    print (\"\\t\" + brknItem.name)"
   ]
  }
 ],
 "metadata": {
  "kernelspec": {
   "display_name": "Python 3",
   "language": "python",
   "name": "python3"
  },
  "language_info": {
   "codemirror_mode": {
    "name": "ipython",
    "version": 3
   },
   "file_extension": ".py",
   "mimetype": "text/x-python",
   "name": "python",
   "nbconvert_exporter": "python",
   "pygments_lexer": "ipython3",
   "version": "3.6.5"
  }
 },
 "nbformat": 4,
 "nbformat_minor": 2
}
